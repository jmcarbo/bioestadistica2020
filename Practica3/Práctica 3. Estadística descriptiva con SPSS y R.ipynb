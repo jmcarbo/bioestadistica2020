{
  "nbformat": 4,
  "nbformat_minor": 0,
  "metadata": {
    "kernelspec": {
      "display_name": "R",
      "language": "R",
      "name": "ir"
    },
    "language_info": {
      "codemirror_mode": "r",
      "file_extension": ".r",
      "mimetype": "text/x-r-source",
      "name": "R",
      "pygments_lexer": "r",
      "version": "4.0.0"
    },
    "colab": {
      "name": "Práctica 3. Estadística descriptiva con SPSS y R.ipynb",
      "provenance": [],
      "include_colab_link": true
    }
  },
  "cells": [
    {
      "cell_type": "markdown",
      "metadata": {
        "id": "view-in-github",
        "colab_type": "text"
      },
      "source": [
        "<a href=\"https://colab.research.google.com/github/jmcarbo/bioestadistica2020/blob/master/Practica3/Pr%C3%A1ctica%203.%20Estad%C3%ADstica%20descriptiva%20con%20SPSS%20y%20R.ipynb\" target=\"_parent\"><img src=\"https://colab.research.google.com/assets/colab-badge.svg\" alt=\"Open In Colab\"/></a>"
      ]
    },
    {
      "cell_type": "markdown",
      "metadata": {
        "id": "ntNWV3KUr-qx"
      },
      "source": [
        "# Práctica 3: Estadística descriptiva con R"
      ]
    },
    {
      "cell_type": "markdown",
      "metadata": {
        "id": "NF_Y9b_er-q0"
      },
      "source": [
        "## Datos de partida\n",
        "\n",
        "Se han recogido en una tabla datos relativos a unos **6000 partos** atendidos en el **Hospital del Mar** de Barcelona entre los años 1991 y 1999.\n",
        "\n",
        "La tabla ha sido anonimizada para poder trabajar sobre ella sin infringir ninguna norma ética ni vulnerar los derechos de privacidad de los pacientes.\n",
        "\n",
        "La tabla recoge las siguientes variables:\n",
        "\n",
        "* ANYPART: Año de parto, la tabla recoge datos entre 1991 y 1999\n",
        "* MESPART: Mes del parto\n",
        "* DIAPART: Día del parto\n",
        "* TRIMESTR: Trimestre del año en el cual se produjo el parto\n",
        "* GESTACIO: Tipo de gestación (prematura o “a término”)\n",
        "* PESNADO: Peso del neonato \n",
        "* EDATMARE: Edad de la madre en el momento del parto"
      ]
    },
    {
      "cell_type": "markdown",
      "metadata": {
        "id": "2DJApawzr-q1"
      },
      "source": [
        "## Objetivos de la práctica.\n",
        "\n",
        "Obtención de estadísticos descriptivos a partir de la tabla completa de datos. En concreto, estamos interesados en conocer cuál es el peso de los niños y las edades de las madres."
      ]
    },
    {
      "cell_type": "markdown",
      "metadata": {
        "id": "Ao7hdKZSr-q1"
      },
      "source": [
        "## Protocolo\n",
        "\n",
        "Descarga el fichero partos1.xls, que puedes encontrar en la carpeta practicas del Tema 3. Abre eldocumento con Excel para inspeccionar los datos. Anota el número objetos y de variables, así como el nombre y tipo de las variables. Cierra Excel antes de continuar.\n",
        "\n",
        "Vamos a importar la tabla en el programa SPSS. Usa la opción Archivo>>>Abrir y selecciona en el recuadro “Archivos de Tipo”, la opción “Excel”. En el cuadro de diálogo, asegúrate de marcar la opción “Leer los nombres de las variables”.\n",
        "\n",
        "Para analizar los pesos de los niños selecciona Analizar>>Estadísticos descriptivos>>Frecuencias. En el cuadro de diálogo selecciona la variables “PESNADO” y haz clic en la flecha para añadirla a la lista de variables a analizar. Deselecciona la opción de “Mostrar Tabla”. Pulsa el botón “Estadísticos” para seleccionar obtener estadísticos de tendencia central yde dispersión. Pulsa el botón “Gráficos” para seleccionar el mostrar un histograma. Pulsa “Aceptar”. Anota los resultados.\n",
        "\n",
        "Si te fijas en el histograma algunos individuos tienen peso 0. Elimina estos casos usando el comando Datos>>>Seleccionar Casos... y repite el análisis descriptivo. Anota los resultados.\n",
        "\n",
        "Analiza ahora la edad de las madres obteniendo los mismos estadísticos de tendencia central y dispersión. Anota los resultados.\n",
        "\n",
        "Repetiremos ahora el análisis utilizando el programa R. Comienza por abrir el fichero con Excel y exportarlo en formato CSV a una carpeta que tenga una dirección sencilla (por ejemplo \"C:\\temp\"). Sigue el procedimiento que se describe en la “Breve introducción a R” para importarlo y obtener un objetollamado “partos”de tipo data.frame. El comando final tendrá un formato similar a: \n",
        "\n",
        "```\n",
        "partos <-read.csv(\"partos1.csv\",sep=\";\",header=TRUE)\n",
        "```\n"
      ]
    },
    {
      "cell_type": "code",
      "metadata": {
        "id": "BpxzKxrAuUAf"
      },
      "source": [
        "library(curl)\n",
        "curl_download(\"https://raw.githubusercontent.com/jmcarbo/bioestadistica2020/master/Practica3/partos1.csv\",\"partos1.csv\")"
      ],
      "execution_count": 3,
      "outputs": []
    },
    {
      "cell_type": "code",
      "metadata": {
        "id": "1ACDAgrvr-q3"
      },
      "source": [
        "partos<-read.csv(\"partos1.csv\",sep=\";\",header=TRUE,stringsAsFactors = TRUE)"
      ],
      "execution_count": 4,
      "outputs": []
    },
    {
      "cell_type": "markdown",
      "metadata": {
        "id": "MzB1Lte2r-q4"
      },
      "source": [
        "Para obtener los principales estadísticos descriptivos usa la función summary() con el objeto partos como único argumento. La función summary() también calcula estadísticos descriptivos sobre vectores de valores. "
      ]
    },
    {
      "cell_type": "code",
      "metadata": {
        "id": "noE7G5xdr-q5",
        "outputId": "415ad47e-cb9d-42ba-fb87-701a994a1424",
        "colab": {
          "base_uri": "https://localhost:8080/",
          "height": 269
        }
      },
      "source": [
        "summary(partos)"
      ],
      "execution_count": 5,
      "outputs": [
        {
          "output_type": "display_data",
          "data": {
            "text/plain": [
              "    ANYPART        MESPART          DIAPART         TRIMESTR    \n",
              " Min.   :1991   Min.   : 1.000   Min.   : 1.00   Min.   :1.000  \n",
              " 1st Qu.:1993   1st Qu.: 4.000   1st Qu.: 8.00   1st Qu.:2.000  \n",
              " Median :1996   Median : 7.000   Median :16.00   Median :3.000  \n",
              " Mean   :1995   Mean   : 6.658   Mean   :15.68   Mean   :2.548  \n",
              " 3rd Qu.:1998   3rd Qu.:10.000   3rd Qu.:23.00   3rd Qu.:4.000  \n",
              " Max.   :1999   Max.   :12.000   Max.   :31.00   Max.   :4.000  \n",
              "               GESTACIO       PESNADO        EDATMARE    \n",
              "                   :1911   Min.   :   0   Min.   :12.00  \n",
              " A terme           :3578   1st Qu.:2870   1st Qu.:24.00  \n",
              " Gestacio prolongad: 233   Median :3190   Median :28.00  \n",
              " Gestacion prolonga:  11   Mean   :3170   Mean   :27.87  \n",
              " Prematur          : 309   3rd Qu.:3505   3rd Qu.:32.00  \n",
              "                           Max.   :6530   Max.   :53.00  "
            ]
          },
          "metadata": {}
        }
      ]
    },
    {
      "cell_type": "markdown",
      "metadata": {
        "id": "sBf-zWFyr-q6"
      },
      "source": [
        "Calcula estadísticos descriptivos mediante summary() para las columnas PESNADO y GESTACIO por separado. Consulta el final de la sección sobre manipulación de objetos de la “Breve introducción a R”."
      ]
    },
    {
      "cell_type": "markdown",
      "metadata": {
        "id": "YK-QSAN4r-q6"
      },
      "source": [
        "Respecto a los estadísticos descriptivos obtenidos de la variable PESNADO, ¿podrías indicar por debajo de quéumbral de peso han nacido la mitad (el 50%) de los bebés?"
      ]
    },
    {
      "cell_type": "markdown",
      "metadata": {
        "id": "mA6tAO2ir-q7"
      },
      "source": [
        "Respecto a los estadísticos descriptivos obtenidos de la variable GESTACIO, habrás observado que al tratarse de una variable categórica (factor), estos estadísticos se reducen a una tabla del número de ocurrencias de cada valor distinto (nivel) observado en la variable. Si examinas detenidamente cuales son los niveles que toma la variable GESTACIO apreciarás que dos de ellos denotan el mismo caso, Gestacio prolongad y Gestacion prolonga, y que existen 1911 observaciones cuyo nivel no aparece especificado. Esta situación no es excepcional dado que a menudo los datos contienen errores o inconsistencias que debemos corregir antes de proceder a su análisis. Para llevar a cabo esta tarea primero examinaremos más detenidamente los niveles de la variable GESTACIO con la función levels()de esta forma:\n",
        "\n",
        "```\n",
        "levels(partos$GESTACIO)\n",
        "```"
      ]
    },
    {
      "cell_type": "code",
      "metadata": {
        "id": "h5aJsggNr-q7",
        "outputId": "c43f29d3-6ebf-4246-ed79-2b53df50d7ae",
        "colab": {
          "base_uri": "https://localhost:8080/",
          "height": 34
        }
      },
      "source": [
        "levels(partos$GESTACIO)"
      ],
      "execution_count": 6,
      "outputs": [
        {
          "output_type": "display_data",
          "data": {
            "text/plain": [
              "[1] \"\"                   \"A terme\"            \"Gestacio prolongad\"\n",
              "[4] \"Gestacion prolonga\" \"Prematur\"          "
            ],
            "text/latex": "\\begin{enumerate*}\n\\item ''\n\\item 'A terme'\n\\item 'Gestacio prolongad'\n\\item 'Gestacion prolonga'\n\\item 'Prematur'\n\\end{enumerate*}\n",
            "text/markdown": "1. ''\n2. 'A terme'\n3. 'Gestacio prolongad'\n4. 'Gestacion prolonga'\n5. 'Prematur'\n\n\n",
            "text/html": [
              "<style>\n",
              ".list-inline {list-style: none; margin:0; padding: 0}\n",
              ".list-inline>li {display: inline-block}\n",
              ".list-inline>li:not(:last-child)::after {content: \"\\00b7\"; padding: 0 .5ex}\n",
              "</style>\n",
              "<ol class=list-inline><li>''</li><li>'A terme'</li><li>'Gestacio prolongad'</li><li>'Gestacion prolonga'</li><li>'Prematur'</li></ol>\n"
            ]
          },
          "metadata": {}
        }
      ]
    },
    {
      "cell_type": "markdown",
      "metadata": {
        "id": "OF8HrYMQr-q8"
      },
      "source": [
        "Ahora podemos apreciar más claramente que el primer nivel corresponde a una cadena de caracteres vacía, denotada en R por dos pares de comillas dobles seguidas (\"\"). En casos como este es razonable asumir que este tipo de valor denota el desconocimiento del tipo de gestación para esos 1911 bebés. Estos valores son denominados comúnmente valores perdidos (“missingvalues”, en inglés). La representación de valores perdidos en los ficheros originales puede variar dependiendo de cómo se generaron los datos, en este caso quedaron especificados por una cadena de caracteres vacía. En R, la convención utilizada para representar valoresperdidoses mediante la palabra NA del inglés Not Available. Es conveniente que nuestros valores perdidos sigan esta convención cuando los analizamos en R. Para llevar a cabo este cambio así como la consolidación de los dos niveles distintos, anteriormente mencionados, en uno solo, utilizaremos otra vez la función levels pero en esta ocasión para actualizar los niveles de la variable GESTACIO, de la siguiente forma:\n",
        "\n",
        "```\n",
        "levels(partos$GESTACIO)<-c(NA, \"A terme\", \"Gestacio prolongada\", \"Gestacio prolongada\", \"Prematur\")\n",
        "```"
      ]
    },
    {
      "cell_type": "code",
      "metadata": {
        "id": "8E__WTOwr-q8"
      },
      "source": [
        "levels(partos$GESTACIO)<-c(NA, \"A terme\", \"Gestacio prolongada\", \"Gestacio prolongada\", \"Prematur\")"
      ],
      "execution_count": 7,
      "outputs": []
    },
    {
      "cell_type": "markdown",
      "metadata": {
        "id": "gAhMxPp1r-q9"
      },
      "source": [
        "Llama de nuevo a la función summary()sobre la variable GESTACIO y observa el cambio en la tabulación de los valores distintos."
      ]
    },
    {
      "cell_type": "code",
      "metadata": {
        "id": "Zyl1KWssr-q9",
        "outputId": "ca7170da-965c-404e-9d69-c06905cf2686",
        "colab": {
          "base_uri": "https://localhost:8080/",
          "height": 34
        }
      },
      "source": [
        "summary(partos$GESTACIO)"
      ],
      "execution_count": 8,
      "outputs": [
        {
          "output_type": "display_data",
          "data": {
            "text/plain": [
              "            A terme Gestacio prolongada            Prematur                NA's \n",
              "               3578                 244                 309                1911 "
            ],
            "text/latex": "\\begin{description*}\n\\item[A terme] 3578\n\\item[Gestacio prolongada] 244\n\\item[Prematur] 309\n\\item[NA's] 1911\n\\end{description*}\n",
            "text/markdown": "A terme\n:   3578Gestacio prolongada\n:   244Prematur\n:   309NA's\n:   1911\n\n",
            "text/html": [
              "<style>\n",
              ".dl-inline {width: auto; margin:0; padding: 0}\n",
              ".dl-inline>dt, .dl-inline>dd {float: none; width: auto; display: inline-block}\n",
              ".dl-inline>dt::after {content: \":\\0020\"; padding-right: .5ex}\n",
              ".dl-inline>dt:not(:first-of-type) {padding-left: .5ex}\n",
              "</style><dl class=dl-inline><dt>A terme</dt><dd>3578</dd><dt>Gestacio prolongada</dt><dd>244</dd><dt>Prematur</dt><dd>309</dd><dt>NA's</dt><dd>1911</dd></dl>\n"
            ]
          },
          "metadata": {}
        }
      ]
    },
    {
      "cell_type": "markdown",
      "metadata": {
        "id": "N7UhyxZLr-q9"
      },
      "source": [
        "En R puedes eliminar los casos problemáticos convirtiendo todos los valores de pesos de niños por debajo de un cierto umbral en valores perdidos. Por ejemplo, para eliminar los casos de niños con pesopor debajo de 300 gramos:\n",
        "\n",
        "copia la variable a un vector\n",
        "\n",
        "```\n",
        "noupes <-partos$PESNADO\n",
        "```\n",
        "\n",
        "asigna a todos los valores menores de 300 con el código NA (missing value)\n",
        "\n",
        "```\n",
        "mascara <-noupes < 300\n",
        "noupes[mascara]<-NA\n",
        "```\n"
      ]
    },
    {
      "cell_type": "code",
      "metadata": {
        "id": "6iCL5jCsr-q-"
      },
      "source": [
        "noupes <-partos$PESNADO\n",
        "mascara <-noupes < 300"
      ],
      "execution_count": 10,
      "outputs": []
    },
    {
      "cell_type": "markdown",
      "metadata": {
        "id": "CAboOfovr-q-"
      },
      "source": [
        "Ahora puedes usar el vector “noupes”para obtener un histograma y un gráfico de caja usando los comandos “hist”y “boxplot”. Si quieres puedes ver la página de ayuda de estos comandos para usar otras opciones de visualización que no sean las opciones por defecto.\n",
        "\n",
        "puedes usarhelp(hist) o help (boxplot) para ver otras opciones\n",
        "\n",
        "```\n",
        "hist(noupes)\n",
        "hist(noupes,50)\n",
        "```\n",
        "\n",
        "```\n",
        "boxplot(noupes)\n",
        "boxplot(noupes,col=\"red\")\n",
        "```"
      ]
    },
    {
      "cell_type": "code",
      "metadata": {
        "id": "gNSYhV_2r-q-",
        "outputId": "b2511908-0ce3-4e45-bd77-954496633e4b",
        "colab": {
          "base_uri": "https://localhost:8080/",
          "height": 437
        }
      },
      "source": [
        "hist(noupes)"
      ],
      "execution_count": 11,
      "outputs": [
        {
          "output_type": "display_data",
          "data": {
            "image/png": "[encoded data removed]",
            "text/plain": [
              "Plot with title “Histogram of noupes”"
            ]
          },
          "metadata": {
            "image/png": {
              "width": 420,
              "height": 420
            }
          }
        }
      ]
    },
    {
      "cell_type": "code",
      "metadata": {
        "id": "O1Fy0n0Nr-q_",
        "outputId": "d5d1df4c-98fe-4775-f5a4-cc41b718684d"
      },
      "source": [
        "boxplot(noupes,col=\"red\")"
      ],
      "execution_count": null,
      "outputs": [
        {
          "data": {
            "image/png": "[encoded data removed]",
            "text/plain": [
              "plot without title"
            ]
          },
          "metadata": {
            "image/png": {
              "height": 420,
              "width": 420
            },
            "text/plain": {
              "height": 420,
              "width": 420
            }
          },
          "output_type": "display_data"
        }
      ]
    },
    {
      "cell_type": "markdown",
      "metadata": {
        "id": "2oRSlYcWr-q_"
      },
      "source": [
        "Repite las mismas operaciones para la edad de las madres."
      ]
    },
    {
      "cell_type": "code",
      "metadata": {
        "id": "4E0Dqkisr-rA"
      },
      "source": [
        ""
      ],
      "execution_count": null,
      "outputs": []
    },
    {
      "cell_type": "markdown",
      "metadata": {
        "id": "XTCk2Mejr-rA"
      },
      "source": [
        "Por último, repetiremos el diagrama de cajas acostadas para la edad de las madres,agrupadas por trimestre de parto que obtuvimos en SPSS. Para ello obténun nuevo vector con las edades de las madres agrupadas por trimestre, usando el comando:\n",
        "\n",
        "```\n",
        "nouedat <-split(partos$EDATMARE,partos$TRIMESTR)\n",
        "boxplot(nouedat)\n",
        "```"
      ]
    },
    {
      "cell_type": "code",
      "metadata": {
        "id": "-tchDvNdr-rA",
        "outputId": "61180aa2-ba2d-4762-e4ca-f1a30ba9b136"
      },
      "source": [
        "nouedat <-split(partos$EDATMARE,partos$TRIMESTR)\n",
        "boxplot(nouedat)"
      ],
      "execution_count": null,
      "outputs": [
        {
          "data": {
            "image/png": "[encoded data removed]",
            "text/plain": [
              "plot without title"
            ]
          },
          "metadata": {
            "image/png": {
              "height": 420,
              "width": 420
            },
            "text/plain": {
              "height": 420,
              "width": 420
            }
          },
          "output_type": "display_data"
        }
      ]
    },
    {
      "cell_type": "markdown",
      "metadata": {
        "id": "Tb6LdeWAr-rA"
      },
      "source": [
        "### Pregunta 1\n",
        "\n",
        "Imagina que te encargan hacer un estudio sobre los niños nacidos en Barcelona en este período. ¿Los datos de esta tabla son una muestra adecuada? ¿Por qué?\n",
        "\n"
      ]
    },
    {
      "cell_type": "markdown",
      "metadata": {
        "id": "nTRgTfj7r-rB"
      },
      "source": [
        "### Pregunta 2\n",
        "\n",
        "¿Por qué crees que algunos datos de peso de los niños tienen un valor de 0?. Cuando has repetido el análisis ¿Has notado algún cambio es los estadísticos de tendencia central? ¿Han cambiado todos por igual? ¿Por qué unos cambian más que otros? ¿Cuál es en tu opinión el estadístico de tendencia central más adecuado en este caso? ¿Por qué?"
      ]
    },
    {
      "cell_type": "markdown",
      "metadata": {
        "id": "zam7ds03r-rB"
      },
      "source": [
        "### Pregunta 3\n",
        "\n",
        "Selecciona dos parámetros estadísticos que describan las características más importante del conjunto de pesos de niños y anota sus valores. Comenta brevemente tu elección."
      ]
    },
    {
      "cell_type": "markdown",
      "metadata": {
        "id": "U9kX9tCmr-rB"
      },
      "source": [
        "### Pregunta 4\n",
        "\n",
        "Selecciona dos parámetros estadísticos que describan las características más importante del conjunto de edades de las madres y anota sus valores."
      ]
    },
    {
      "cell_type": "markdown",
      "metadata": {
        "id": "haaNl4wPr-rC"
      },
      "source": [
        "### Pregunta 5\n",
        "\n",
        "¿Cómo puedes representar las diferencias en las edades de las madres que dan a luz en distintos cuatrimestres? ¿En qué te fijarías? ¿observas diferencias?"
      ]
    }
  ]
}